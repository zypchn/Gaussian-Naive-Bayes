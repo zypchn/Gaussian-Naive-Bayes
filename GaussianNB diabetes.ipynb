{
 "cells": [
  {
   "cell_type": "code",
   "execution_count": 31,
   "id": "0a2e0925",
   "metadata": {},
   "outputs": [],
   "source": [
    "from sklearn.naive_bayes import GaussianNB\n",
    "import pandas as pd\n",
    "from sklearn.model_selection import cross_val_score, GridSearchCV, train_test_split\n",
    "from sklearn.metrics import confusion_matrix\n",
    "import matplotlib.pyplot as plt\n",
    "from sklearn.preprocessing import StandardScaler"
   ]
  },
  {
   "cell_type": "code",
   "execution_count": 32,
   "id": "791651a3",
   "metadata": {},
   "outputs": [],
   "source": [
    "diabetes = pd.read_csv(\"diabetes.csv\")\n",
    "X = diabetes.drop(\"Outcome\", axis=1)\n",
    "y = diabetes[\"Outcome\"]"
   ]
  },
  {
   "cell_type": "code",
   "execution_count": 33,
   "id": "5068c9ba",
   "metadata": {},
   "outputs": [],
   "source": [
    "X_train, X_test, y_train, y_test = train_test_split(\n",
    "X, y, random_state=42, test_size=0.2, shuffle=True)"
   ]
  },
  {
   "cell_type": "code",
   "execution_count": 34,
   "id": "ce5fb337",
   "metadata": {},
   "outputs": [
    {
     "data": {
      "text/plain": [
       "array([0.77073171, 0.74634146, 0.7254902 ])"
      ]
     },
     "execution_count": 34,
     "metadata": {},
     "output_type": "execute_result"
    }
   ],
   "source": [
    "gaussNB = GaussianNB()\n",
    "gaussNB.fit(X_train, y_train)\n",
    "cross_val_score(gaussNB, X_train, y_train, cv=3, scoring=\"accuracy\")"
   ]
  },
  {
   "cell_type": "code",
   "execution_count": 35,
   "id": "07fa25df",
   "metadata": {},
   "outputs": [
    {
     "data": {
      "text/plain": [
       "array([[338,  63],\n",
       "       [ 89, 124]], dtype=int64)"
      ]
     },
     "execution_count": 35,
     "metadata": {},
     "output_type": "execute_result"
    }
   ],
   "source": [
    "y_pred = gaussNB.predict(X_train)\n",
    "conf_mx_1 = confusion_matrix(y_train, y_pred)\n",
    "conf_mx_1"
   ]
  },
  {
   "cell_type": "code",
   "execution_count": 36,
   "id": "5b243a82",
   "metadata": {},
   "outputs": [],
   "source": [
    "scaler = StandardScaler()\n",
    "X_train_scaled = scaler.fit_transform(X_train)"
   ]
  },
  {
   "cell_type": "code",
   "execution_count": 37,
   "id": "3e85254c",
   "metadata": {},
   "outputs": [
    {
     "data": {
      "text/plain": [
       "array([0.77073171, 0.74634146, 0.7254902 ])"
      ]
     },
     "execution_count": 37,
     "metadata": {},
     "output_type": "execute_result"
    }
   ],
   "source": [
    "gaussNB = GaussianNB()\n",
    "gaussNB.fit(X_train_scaled, y_train)\n",
    "cross_val_score(gaussNB, X_train_scaled, y_train, cv=3, scoring=\"accuracy\")"
   ]
  },
  {
   "cell_type": "code",
   "execution_count": 38,
   "id": "9246bff2",
   "metadata": {},
   "outputs": [
    {
     "data": {
      "text/plain": [
       "array([[338,  63],\n",
       "       [ 89, 124]], dtype=int64)"
      ]
     },
     "execution_count": 38,
     "metadata": {},
     "output_type": "execute_result"
    }
   ],
   "source": [
    "y_pred = gaussNB.predict(X_train_scaled)\n",
    "conf_mx_2 = confusion_matrix(y_train, y_pred)\n",
    "conf_mx_2"
   ]
  },
  {
   "cell_type": "code",
   "execution_count": 39,
   "id": "92d64f76",
   "metadata": {},
   "outputs": [],
   "source": [
    "params = [\n",
    "    {\"var_smoothing\": [1e-3, 1e-2, 2e-3, 2e-2]}\n",
    "]\n",
    "\n",
    "grid_search = GridSearchCV(gaussNB, params, cv=3, \n",
    "                          scoring=\"neg_mean_squared_error\",\n",
    "                          return_train_score=True)"
   ]
  },
  {
   "cell_type": "code",
   "execution_count": 50,
   "id": "d3831d4c",
   "metadata": {},
   "outputs": [
    {
     "data": {
      "text/plain": [
       "array([0.77560976, 0.74634146, 0.73039216])"
      ]
     },
     "execution_count": 50,
     "metadata": {},
     "output_type": "execute_result"
    }
   ],
   "source": [
    "grid_search.fit(X_train_scaled, y_train)\n",
    "best_estimator = grid_search.best_estimator_\n",
    "\n",
    "best_estimator.fit(X_train_scaled, y_train)\n",
    "cross_val_score(best_estimator, X_train_scaled, y_train, cv=3, scoring=\"accuracy\")"
   ]
  },
  {
   "cell_type": "code",
   "execution_count": 51,
   "id": "5fd07eac",
   "metadata": {},
   "outputs": [
    {
     "data": {
      "text/plain": [
       "(array([[339,  62],\n",
       "        [ 90, 123]], dtype=int64),)"
      ]
     },
     "execution_count": 51,
     "metadata": {},
     "output_type": "execute_result"
    }
   ],
   "source": [
    "y_pred = best_estimator.predict(X_train_scaled)\n",
    "conf_mx_3 = confusion_matrix(y_train, y_pred),\n",
    "conf_mx_3"
   ]
  },
  {
   "cell_type": "code",
   "execution_count": 48,
   "id": "122fcea5",
   "metadata": {},
   "outputs": [
    {
     "data": {
      "text/plain": [
       "array([0.76585366, 0.74634146, 0.72058824])"
      ]
     },
     "execution_count": 48,
     "metadata": {},
     "output_type": "execute_result"
    }
   ],
   "source": [
    "grid_search.fit(X_train, y_train)\n",
    "best_estimator = grid_search.best_estimator_\n",
    "\n",
    "best_estimator.fit(X_train, y_train)\n",
    "cross_val_score(best_estimator, X_train, y_train, cv=3, scoring=\"accuracy\")"
   ]
  },
  {
   "cell_type": "code",
   "execution_count": 49,
   "id": "96122fbc",
   "metadata": {},
   "outputs": [
    {
     "data": {
      "text/plain": [
       "array([[347,  54],\n",
       "       [ 99, 114]], dtype=int64)"
      ]
     },
     "execution_count": 49,
     "metadata": {},
     "output_type": "execute_result"
    }
   ],
   "source": [
    "y_pred = best_estimator.predict(X_train)\n",
    "conf_mx_4 = confusion_matrix(y_train, y_pred)\n",
    "conf_mx_4"
   ]
  },
  {
   "cell_type": "code",
   "execution_count": 42,
   "id": "3ec0444f",
   "metadata": {},
   "outputs": [
    {
     "data": {
      "text/plain": [
       "array([[0, 0],\n",
       "       [0, 0]], dtype=int64)"
      ]
     },
     "execution_count": 42,
     "metadata": {},
     "output_type": "execute_result"
    }
   ],
   "source": [
    "conf_mx_1 - conf_mx_2"
   ]
  },
  {
   "cell_type": "code",
   "execution_count": 52,
   "id": "9000da5e",
   "metadata": {},
   "outputs": [
    {
     "data": {
      "text/plain": [
       "array([[[-1,  1],\n",
       "        [-1,  1]]], dtype=int64)"
      ]
     },
     "execution_count": 52,
     "metadata": {},
     "output_type": "execute_result"
    }
   ],
   "source": [
    "conf_mx_2 - conf_mx_3"
   ]
  },
  {
   "cell_type": "code",
   "execution_count": 53,
   "id": "1c9be7fc",
   "metadata": {},
   "outputs": [
    {
     "data": {
      "text/plain": [
       "array([[ -9,   9],\n",
       "       [-10,  10]], dtype=int64)"
      ]
     },
     "execution_count": 53,
     "metadata": {},
     "output_type": "execute_result"
    }
   ],
   "source": [
    "conf_mx_2 - conf_mx_4"
   ]
  },
  {
   "cell_type": "code",
   "execution_count": null,
   "id": "c10a6c7d",
   "metadata": {},
   "outputs": [],
   "source": []
  }
 ],
 "metadata": {
  "kernelspec": {
   "display_name": "Python 3 (ipykernel)",
   "language": "python",
   "name": "python3"
  },
  "language_info": {
   "codemirror_mode": {
    "name": "ipython",
    "version": 3
   },
   "file_extension": ".py",
   "mimetype": "text/x-python",
   "name": "python",
   "nbconvert_exporter": "python",
   "pygments_lexer": "ipython3",
   "version": "3.11.5"
  }
 },
 "nbformat": 4,
 "nbformat_minor": 5
}
